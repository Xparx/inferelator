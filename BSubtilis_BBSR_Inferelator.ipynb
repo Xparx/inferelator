{
 "cells": [
  {
   "cell_type": "code",
   "execution_count": null,
   "metadata": {},
   "outputs": [],
   "source": [
    "# Set the inferelator to verbose output\n",
    "\n",
    "from inferelator import utils\n",
    "utils.Debug.set_verbose_level(1)"
   ]
  },
  {
   "cell_type": "code",
   "execution_count": null,
   "metadata": {},
   "outputs": [],
   "source": [
    "# Set the multiprocessing to use the local (pathos) engine with 3 cores\n",
    "\n",
    "from inferelator.distributed.inferelator_mp import MPControl\n",
    "MPControl.set_multiprocess_engine(\"multiprocessing\")\n",
    "MPControl.client.processes = 3"
   ]
  },
  {
   "cell_type": "code",
   "execution_count": null,
   "metadata": {},
   "outputs": [],
   "source": [
    "# Construct an inferelator workflow for bacillus subtilis, running the BBSR regression engine\n",
    "\n",
    "from inferelator import workflow\n",
    "wflow = workflow.inferelator_workflow(regression=\"bbsr\", workflow=\"tfa\")\n",
    "wflow.input_dir = 'data/bsubtilis'\n",
    "wflow.num_bootstraps = 2\n",
    "wflow.delTmax = 110\n",
    "wflow.delTmin = 0\n",
    "wflow.tau = 45\n",
    "\n",
    "# Run the workflow\n",
    "network = wflow.run()"
   ]
  },
  {
   "cell_type": "code",
   "execution_count": null,
   "metadata": {},
   "outputs": [],
   "source": [
    "# Visualize the network output\n",
    "\n",
    "network.head()"
   ]
  }
 ],
 "metadata": {
  "kernelspec": {
   "display_name": "Python 3",
   "language": "python",
   "name": "python3"
  },
  "language_info": {
   "codemirror_mode": {
    "name": "ipython",
    "version": 3
   },
   "file_extension": ".py",
   "mimetype": "text/x-python",
   "name": "python",
   "nbconvert_exporter": "python",
   "pygments_lexer": "ipython3",
   "version": "3.6.7"
  }
 },
 "nbformat": 4,
 "nbformat_minor": 2
}
