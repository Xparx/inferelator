{
 "cells": [
  {
   "cell_type": "code",
   "execution_count": 1,
   "metadata": {},
   "outputs": [],
   "source": [
    "# Load modules\n",
    "from inferelator import utils\n",
    "from inferelator.distributed.inferelator_mp import MPControl\n",
    "\n",
    "from inferelator import workflow\n",
    "from inferelator.crossvalidation_workflow import CrossValidationManager\n",
    "\n",
    "# Set verbosity level to \"Talky\"\n",
    "utils.Debug.set_verbose_level(1)"
   ]
  },
  {
   "cell_type": "code",
   "execution_count": 2,
   "metadata": {},
   "outputs": [],
   "source": [
    "# Set the location of the input data and the desired location of the output files\n",
    "\n",
    "DATA_DIR = '../data/bsubtilis'\n",
    "OUTPUT_DIR = '~/bsubtilis_inference/'\n",
    "\n",
    "EXPRESSION_FILE_NAME = 'expression.tsv.gz'\n",
    "PRIORS_FILE_NAME = 'gold_standard.tsv.gz'\n",
    "GOLD_STANDARD_FILE_NAME = 'gold_standard.tsv.gz'\n",
    "META_DATA_FILE_NAME = 'meta_data.tsv'\n",
    "TF_LIST_FILE_NAME = 'tf_names.tsv'\n",
    "\n",
    "CV_SEEDS = list(range(42, 52))"
   ]
  },
  {
   "cell_type": "code",
   "execution_count": 3,
   "metadata": {},
   "outputs": [
    {
     "name": "stdout",
     "output_type": "stream",
     "text": [
      "  Inferelator MPControl using engine multiprocessing\n"
     ]
    }
   ],
   "source": [
    "# Multiprocessing uses the pathos implementation of multiprocessing (with dill instead of cPickle)\n",
    "# This is suited for a single computer but will not work on a distributed cluster\n",
    "\n",
    "n_cores_local = 10\n",
    "local_engine = True \n",
    "\n",
    "# Multiprocessing needs to be protected with the if __name__ == 'main' pragma\n",
    "if __name__ == '__main__' and local_engine:\n",
    "    MPControl.set_multiprocess_engine(\"multiprocessing\")\n",
    "    MPControl.client.processes = n_cores_local\n",
    "    MPControl.connect()"
   ]
  },
  {
   "cell_type": "code",
   "execution_count": 4,
   "metadata": {},
   "outputs": [],
   "source": [
    "# Define the general run parameters\n",
    "# This function will take a workflow and set the file paths\n",
    "# As well as a 5-fold cross validation\n",
    "\n",
    "def set_up_workflow(wkf):\n",
    "    wkf.set_file_paths(input_dir=DATA_DIR,\n",
    "                       output_dir=OUTPUT_DIR,\n",
    "                       tf_names_file=TF_LIST_FILE_NAME,\n",
    "                       meta_data_file=META_DATA_FILE_NAME,\n",
    "                       priors_file=PRIORS_FILE_NAME,\n",
    "                       gold_standard_file=GOLD_STANDARD_FILE_NAME)\n",
    "    wkf.set_expression_file(tsv=EXPRESSION_FILE_NAME)\n",
    "    wkf.set_file_properties(expression_matrix_columns_are_genes=False)\n",
    "    wkf.set_run_parameters(num_bootstraps=5)\n",
    "    wkf.set_crossvalidation_parameters(split_gold_standard_for_crossvalidation=True, cv_split_ratio=0.2)\n",
    "    return wkf"
   ]
  },
  {
   "cell_type": "code",
   "execution_count": 5,
   "metadata": {},
   "outputs": [
    {
     "ename": "ModuleNotFoundError",
     "evalue": "No module named 'inferelator.utils.data'; 'inferelator.utils' is not a package",
     "output_type": "error",
     "traceback": [
      "\u001b[0;31m---------------------------------------------------------------------------\u001b[0m",
      "\u001b[0;31mModuleNotFoundError\u001b[0m                       Traceback (most recent call last)",
      "\u001b[0;32m<ipython-input-5-31641ccc2cdc>\u001b[0m in \u001b[0;36m<module>\u001b[0;34m\u001b[0m\n\u001b[1;32m     11\u001b[0m \u001b[0;34m\u001b[0m\u001b[0m\n\u001b[1;32m     12\u001b[0m \u001b[0;31m# Create a worker\u001b[0m\u001b[0;34m\u001b[0m\u001b[0;34m\u001b[0m\u001b[0;34m\u001b[0m\u001b[0m\n\u001b[0;32m---> 13\u001b[0;31m \u001b[0mworker\u001b[0m \u001b[0;34m=\u001b[0m \u001b[0mworkflow\u001b[0m\u001b[0;34m.\u001b[0m\u001b[0minferelator_workflow\u001b[0m\u001b[0;34m(\u001b[0m\u001b[0mregression\u001b[0m\u001b[0;34m=\u001b[0m\u001b[0;34m\"bbsr\"\u001b[0m\u001b[0;34m,\u001b[0m \u001b[0mworkflow\u001b[0m\u001b[0;34m=\u001b[0m\u001b[0;34m\"tfa\"\u001b[0m\u001b[0;34m)\u001b[0m\u001b[0;34m\u001b[0m\u001b[0;34m\u001b[0m\u001b[0m\n\u001b[0m\u001b[1;32m     14\u001b[0m \u001b[0mworker\u001b[0m \u001b[0;34m=\u001b[0m \u001b[0mset_up_workflow\u001b[0m\u001b[0;34m(\u001b[0m\u001b[0mworker\u001b[0m\u001b[0;34m)\u001b[0m\u001b[0;34m\u001b[0m\u001b[0;34m\u001b[0m\u001b[0m\n\u001b[1;32m     15\u001b[0m \u001b[0mworker\u001b[0m\u001b[0;34m.\u001b[0m\u001b[0mappend_to_path\u001b[0m\u001b[0;34m(\u001b[0m\u001b[0;34m\"output_dir\"\u001b[0m\u001b[0;34m,\u001b[0m \u001b[0;34m\"bbsr\"\u001b[0m\u001b[0;34m)\u001b[0m\u001b[0;34m\u001b[0m\u001b[0;34m\u001b[0m\u001b[0m\n",
      "\u001b[0;32m~/PycharmProjects/inferelator/inferelator/workflow.py\u001b[0m in \u001b[0;36minferelator_workflow\u001b[0;34m(regression, workflow)\u001b[0m\n\u001b[1;32m    916\u001b[0m     \u001b[0;34m:\u001b[0m\u001b[0mrtype\u001b[0m\u001b[0;34m:\u001b[0m \u001b[0mWorkflow\u001b[0m \u001b[0minstance\u001b[0m\u001b[0;34m\u001b[0m\u001b[0;34m\u001b[0m\u001b[0m\n\u001b[1;32m    917\u001b[0m     \"\"\"\n\u001b[0;32m--> 918\u001b[0;31m     \u001b[0;32mreturn\u001b[0m \u001b[0m_factory_build_inferelator\u001b[0m\u001b[0;34m(\u001b[0m\u001b[0mregression\u001b[0m\u001b[0;34m=\u001b[0m\u001b[0mregression\u001b[0m\u001b[0;34m,\u001b[0m \u001b[0mworkflow\u001b[0m\u001b[0;34m=\u001b[0m\u001b[0mworkflow\u001b[0m\u001b[0;34m)\u001b[0m\u001b[0;34m(\u001b[0m\u001b[0;34m)\u001b[0m\u001b[0;34m\u001b[0m\u001b[0;34m\u001b[0m\u001b[0m\n\u001b[0m",
      "\u001b[0;32m~/PycharmProjects/inferelator/inferelator/workflow.py\u001b[0m in \u001b[0;36m_factory_build_inferelator\u001b[0;34m(regression, workflow)\u001b[0m\n\u001b[1;32m    822\u001b[0m             \u001b[0mworkflow_class\u001b[0m \u001b[0;34m=\u001b[0m \u001b[0mWorkflowBase\u001b[0m\u001b[0;34m\u001b[0m\u001b[0;34m\u001b[0m\u001b[0m\n\u001b[1;32m    823\u001b[0m         \u001b[0;32melif\u001b[0m \u001b[0mworkflow\u001b[0m \u001b[0;34m==\u001b[0m \u001b[0;34m\"tfa\"\u001b[0m\u001b[0;34m:\u001b[0m\u001b[0;34m\u001b[0m\u001b[0;34m\u001b[0m\u001b[0m\n\u001b[0;32m--> 824\u001b[0;31m             \u001b[0;32mfrom\u001b[0m \u001b[0minferelator\u001b[0m\u001b[0;34m.\u001b[0m\u001b[0mtfa_workflow\u001b[0m \u001b[0;32mimport\u001b[0m \u001b[0mTFAWorkFlow\u001b[0m\u001b[0;34m\u001b[0m\u001b[0;34m\u001b[0m\u001b[0m\n\u001b[0m\u001b[1;32m    825\u001b[0m             \u001b[0mworkflow_class\u001b[0m \u001b[0;34m=\u001b[0m \u001b[0mTFAWorkFlow\u001b[0m\u001b[0;34m\u001b[0m\u001b[0;34m\u001b[0m\u001b[0m\n\u001b[1;32m    826\u001b[0m         \u001b[0;32melif\u001b[0m \u001b[0mworkflow\u001b[0m \u001b[0;34m==\u001b[0m \u001b[0;34m\"amusr\"\u001b[0m \u001b[0;32mor\u001b[0m \u001b[0mworkflow\u001b[0m \u001b[0;34m==\u001b[0m \u001b[0;34m\"multitask\"\u001b[0m\u001b[0;34m:\u001b[0m\u001b[0;34m\u001b[0m\u001b[0;34m\u001b[0m\u001b[0m\n",
      "\u001b[0;32m~/PycharmProjects/inferelator/inferelator/tfa_workflow.py\u001b[0m in \u001b[0;36m<module>\u001b[0;34m\u001b[0m\n\u001b[1;32m      7\u001b[0m \u001b[0;32mimport\u001b[0m \u001b[0mnumpy\u001b[0m \u001b[0;32mas\u001b[0m \u001b[0mnp\u001b[0m\u001b[0;34m\u001b[0m\u001b[0;34m\u001b[0m\u001b[0m\n\u001b[1;32m      8\u001b[0m \u001b[0;32mfrom\u001b[0m \u001b[0minferelator\u001b[0m \u001b[0;32mimport\u001b[0m \u001b[0mworkflow\u001b[0m\u001b[0;34m\u001b[0m\u001b[0;34m\u001b[0m\u001b[0m\n\u001b[0;32m----> 9\u001b[0;31m \u001b[0;32mfrom\u001b[0m \u001b[0minferelator\u001b[0m\u001b[0;34m.\u001b[0m\u001b[0mpreprocessing\u001b[0m \u001b[0;32mimport\u001b[0m \u001b[0mdesign_response_translation\u001b[0m\u001b[0;34m\u001b[0m\u001b[0;34m\u001b[0m\u001b[0m\n\u001b[0m\u001b[1;32m     10\u001b[0m \u001b[0;32mfrom\u001b[0m \u001b[0minferelator\u001b[0m\u001b[0;34m.\u001b[0m\u001b[0mpreprocessing\u001b[0m\u001b[0;34m.\u001b[0m\u001b[0mtfa\u001b[0m \u001b[0;32mimport\u001b[0m \u001b[0mTFA\u001b[0m\u001b[0;34m,\u001b[0m \u001b[0mNoTFA\u001b[0m\u001b[0;34m\u001b[0m\u001b[0;34m\u001b[0m\u001b[0m\n\u001b[1;32m     11\u001b[0m \u001b[0;32mfrom\u001b[0m \u001b[0minferelator\u001b[0m \u001b[0;32mimport\u001b[0m \u001b[0mutils\u001b[0m\u001b[0;34m\u001b[0m\u001b[0;34m\u001b[0m\u001b[0m\n",
      "\u001b[0;32m~/PycharmProjects/inferelator/inferelator/preprocessing/design_response_translation.py\u001b[0m in \u001b[0;36m<module>\u001b[0;34m\u001b[0m\n\u001b[1;32m      2\u001b[0m \u001b[0;34m\u001b[0m\u001b[0m\n\u001b[1;32m      3\u001b[0m \u001b[0;32mfrom\u001b[0m \u001b[0minferelator\u001b[0m \u001b[0;32mimport\u001b[0m \u001b[0mutils\u001b[0m\u001b[0;34m\u001b[0m\u001b[0;34m\u001b[0m\u001b[0m\n\u001b[0;32m----> 4\u001b[0;31m \u001b[0;32mfrom\u001b[0m \u001b[0minferelator\u001b[0m\u001b[0;34m.\u001b[0m\u001b[0mutils\u001b[0m\u001b[0;34m.\u001b[0m\u001b[0mdata\u001b[0m \u001b[0;32mimport\u001b[0m \u001b[0mInferelatorData\u001b[0m\u001b[0;34m\u001b[0m\u001b[0;34m\u001b[0m\u001b[0m\n\u001b[0m\u001b[1;32m      5\u001b[0m \u001b[0;32mfrom\u001b[0m \u001b[0minferelator\u001b[0m \u001b[0;32mimport\u001b[0m \u001b[0mdefault\u001b[0m\u001b[0;34m\u001b[0m\u001b[0;34m\u001b[0m\u001b[0m\n\u001b[1;32m      6\u001b[0m \u001b[0;32mfrom\u001b[0m \u001b[0minferelator\u001b[0m\u001b[0;34m.\u001b[0m\u001b[0mpreprocessing\u001b[0m\u001b[0;34m.\u001b[0m\u001b[0mmetadata_parser\u001b[0m \u001b[0;32mimport\u001b[0m \u001b[0mMetadataHandler\u001b[0m\u001b[0;34m\u001b[0m\u001b[0;34m\u001b[0m\u001b[0m\n",
      "\u001b[0;31mModuleNotFoundError\u001b[0m: No module named 'inferelator.utils.data'; 'inferelator.utils' is not a package"
     ]
    }
   ],
   "source": [
    "# Inference with BBSR (crossvalidation)\n",
    "# Using the crossvalidation wrapper\n",
    "# Run the regression 10 times and hold 20% of the gold standard out of the priors for testing each time\n",
    "# Each run is seeded differently (and therefore has different holdouts)\n",
    "\n",
    "# Create a worker\n",
    "worker = workflow.inferelator_workflow(regression=\"bbsr\", workflow=\"tfa\")\n",
    "worker = set_up_workflow(worker)\n",
    "worker.append_to_path(\"output_dir\", \"bbsr\")\n",
    "\n",
    "# Create a crossvalidation wrapper\n",
    "cv_wrap = CrossValidationManager(worker)\n",
    "\n",
    "# Assign variables for grid search\n",
    "cv_wrap.add_gridsearch_parameter('random_seed', CV_SEEDS)\n",
    "\n",
    "\n",
    "# Assign the worker to the crossvalidation wrapper\n",
    "#cv_wrap.workflow = worker\n",
    "\n",
    "# Run\n",
    "#cv_wrap.run()"
   ]
  },
  {
   "cell_type": "code",
   "execution_count": null,
   "metadata": {},
   "outputs": [],
   "source": [
    "# Inference with Elastic Net (crossvalidation)\n",
    "# Using the crossvalidation wrapper\n",
    "# Run the regression 10 times and hold 20% of the gold standard out of the priors for testing each time\n",
    "# Each run is seeded differently (and therefore has different holdouts)\n",
    "\n",
    "# Create a crossvalidation wrapper\n",
    "cv_wrap = CrossValidationManager()\n",
    "\n",
    "# Assign variables for grid search\n",
    "cv_wrap.add_gridsearch_parameter('random_seed', CV_SEEDS)\n",
    "\n",
    "# Create a worker\n",
    "worker = workflow.inferelator_workflow(regression=\"elasticnet\", workflow=\"tfa\")\n",
    "worker = set_up_workflow(worker)\n",
    "worker.append_to_path(\"output_dir\", \"elastic_net\")\n",
    "\n",
    "# Set L1 ratio to 1 (This is now LASSO regression instead of Elastic Net)\n",
    "# Parameters set with this function are passed to sklearn.linear_model.ElasticNetCV\n",
    "worker.set_regression_parameters(l1_ratio=1, max_iter=2000)\n",
    "\n",
    "# Create a crossvalidation wrapper\n",
    "cv_wrap = CrossValidationManager(worker)\n",
    "\n",
    "# Assign variables for grid search\n",
    "cv_wrap.add_gridsearch_parameter('random_seed', CV_SEEDS)\n",
    "\n",
    "# Run\n",
    "cv_wrap.run()"
   ]
  },
  {
   "cell_type": "code",
   "execution_count": null,
   "metadata": {},
   "outputs": [],
   "source": [
    "# Final network\n",
    "worker = workflow.inferelator_workflow(regression=\"bbsr\", workflow=\"tfa\")\n",
    "worker = set_up_workflow(worker)\n",
    "worker.append_to_path('output_dir', 'final')\n",
    "worker.set_crossvalidation_parameters(split_gold_standard_for_crossvalidation=False, cv_split_ratio=None)\n",
    "worker.set_run_parameters(num_bootstraps=50, random_seed=100)\n",
    "final_network = worker.run()"
   ]
  },
  {
   "cell_type": "code",
   "execution_count": null,
   "metadata": {},
   "outputs": [],
   "source": [
    "# Visualize network results\n",
    "\n",
    "final_network.head()"
   ]
  }
 ],
 "metadata": {
  "kernelspec": {
   "display_name": "Python 3",
   "language": "python",
   "name": "python3"
  },
  "language_info": {
   "codemirror_mode": {
    "name": "ipython",
    "version": 3
   },
   "file_extension": ".py",
   "mimetype": "text/x-python",
   "name": "python",
   "nbconvert_exporter": "python",
   "pygments_lexer": "ipython3",
   "version": "3.6.9"
  }
 },
 "nbformat": 4,
 "nbformat_minor": 2
}
