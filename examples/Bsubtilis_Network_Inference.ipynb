{
 "cells": [
  {
   "cell_type": "code",
   "execution_count": null,
   "metadata": {},
   "outputs": [],
   "source": [
    "# Load modules\n",
    "\n",
    "from inferelator import utils\n",
    "from inferelator.distributed.inferelator_mp import MPControl\n",
    "\n",
    "from inferelator import workflow\n",
    "\n",
    "# Set verbosity level to \"Talky\"\n",
    "utils.Debug.set_verbose_level(1)\n"
   ]
  },
  {
   "cell_type": "code",
   "execution_count": null,
   "metadata": {},
   "outputs": [],
   "source": [
    "# Set the location of the input data and the desired location of the output files\n",
    "\n",
    "DATA_DIR = '../data/bsubtilis'\n",
    "OUTPUT_DIR = '~/bsubtilis_inference/'\n",
    "\n",
    "EXPRESSION_FILE_NAME = 'expression.tsv.gz'\n",
    "GOLD_STANDARD_FILE_NAME = 'gold_standard.tsv.gz'\n",
    "META_DATA_FILE_NAME = 'meta_data.tsv'\n",
    "TF_LIST_FILE_NAME = 'tf_names.tsv'\n",
    "\n",
    "CV_SEEDS = list(range(42, 52))\n"
   ]
  },
  {
   "cell_type": "code",
   "execution_count": null,
   "metadata": {},
   "outputs": [],
   "source": [
    "# Multiprocessing uses the pathos implementation of multiprocessing (with dill instead of cPickle)\n",
    "# This is suited for a single computer but will not work on a distributed cluster\n",
    "\n",
    "n_cores_local = 3\n",
    "local_engine = True \n",
    "\n",
    "if __name__ == '__main__' and local_engine:\n",
    "    MPControl.set_multiprocess_engine(\"multiprocessing\")\n",
    "    MPControl.client.processes = n_cores_local\n",
    "    MPControl.connect()\n"
   ]
  },
  {
   "cell_type": "code",
   "execution_count": null,
   "metadata": {},
   "outputs": [],
   "source": [
    "# Define the general run parameters\n",
    "\n",
    "def set_up_workflow(wkf):\n",
    "    wkf.input_dir = DATA_DIR\n",
    "    wkf.output_dir = OUTPUT_DIR\n",
    "    wkf.expression_matrix_file = EXPRESSION_FILE_NAME\n",
    "    wkf.gold_standard_file = GOLD_STANDARD_FILE_NAME\n",
    "    wkf.meta_data_file = META_DATA_FILE_NAME\n",
    "    wkf.tf_names_file = TF_LIST_FILE_NAME\n",
    "    wkf.expression_matrix_columns_are_genes = False\n",
    "    wkf.num_bootstraps = 5\n",
    "    return wkf\n"
   ]
  },
  {
   "cell_type": "code",
   "execution_count": null,
   "metadata": {},
   "outputs": [],
   "source": [
    "# Inference with BBSR (crossvalidation)\n",
    "# Run the regression 10 times and hold 20% of the gold standard out of the priors for testing each time\n",
    "for random_seed in CV_SEEDS:\n",
    "    worker = workflow.inferelator_workflow(regression=\"bbsr\", workflow=\"tfa\")\n",
    "    worker = set_up_workflow(worker)\n",
    "    worker.split_gold_standard_for_crossvalidation = True\n",
    "    worker.cv_split_ratio = 0.2\n",
    "    worker.random_seed = random_seed\n",
    "    worker.append_to_path('output_dir', 'bbsr_cv_' + str(random_seed))\n",
    "    worker.run()\n",
    "    del worker\n"
   ]
  },
  {
   "cell_type": "code",
   "execution_count": null,
   "metadata": {},
   "outputs": [],
   "source": [
    "# Inference with Elastic Net (crossvalidation)\n",
    "# Run the regression 10 times and hold 20% of the gold standard out of the priors for testing each time\n",
    "for random_seed in CV_SEEDS:\n",
    "    worker = workflow.inferelator_workflow(regression=\"elasticnet\", workflow=\"tfa\")\n",
    "    worker = set_up_workflow(worker)\n",
    "    worker.split_gold_standard_for_crossvalidation = True\n",
    "    worker.cv_split_ratio = 0.2\n",
    "    worker.random_seed = random_seed\n",
    "    worker.append_to_path('output_dir', 'elasticnet_cv_' + str(random_seed))\n",
    "    worker.run()\n",
    "    del worker\n"
   ]
  },
  {
   "cell_type": "code",
   "execution_count": null,
   "metadata": {},
   "outputs": [],
   "source": [
    "# Final network\n",
    "worker = workflow.inferelator_workflow(regression=\"bbsr\", workflow=\"tfa\")\n",
    "worker = set_up_workflow(worker)\n",
    "worker.append_to_path('output_dir', 'final')\n",
    "worker.split_gold_standard_for_crossvalidation = False\n",
    "worker.cv_split_ratio = None\n",
    "worker.num_bootstraps = 50\n",
    "worker.random_seed = 100\n",
    "final_network = worker.run()\n",
    "del worker\n"
   ]
  },
  {
   "cell_type": "code",
   "execution_count": null,
   "metadata": {},
   "outputs": [],
   "source": [
    "# Visualize network results\n",
    "\n",
    "final_network.head()"
   ]
  }
 ],
 "metadata": {
  "kernelspec": {
   "display_name": "Python 3",
   "language": "python",
   "name": "python3"
  },
  "language_info": {
   "codemirror_mode": {
    "name": "ipython",
    "version": 3
   },
   "file_extension": ".py",
   "mimetype": "text/x-python",
   "name": "python",
   "nbconvert_exporter": "python",
   "pygments_lexer": "ipython3",
   "version": "3.6.8"
  }
 },
 "nbformat": 4,
 "nbformat_minor": 2
}
