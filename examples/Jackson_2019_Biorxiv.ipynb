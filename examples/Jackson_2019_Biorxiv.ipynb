{
 "cells": [
  {
   "cell_type": "code",
   "execution_count": null,
   "metadata": {},
   "outputs": [],
   "source": [
    "# Load modules\n",
    "\n",
    "from inferelator import utils\n",
    "from inferelator.distributed.inferelator_mp import MPControl\n",
    "\n",
    "from inferelator import single_cell_cv_workflow\n",
    "from inferelator import workflow\n",
    "from inferelator.preprocessing import single_cell\n",
    "from inferelator.postprocessing.results_processor_mtl import ResultsProcessorMultiTask\n",
    "\n",
    "# Set verbosity level to \"Talky\"\n",
    "utils.Debug.set_verbose_level(1)"
   ]
  },
  {
   "cell_type": "code",
   "execution_count": null,
   "metadata": {},
   "outputs": [],
   "source": [
    "# Set the location of the input data and the desired location of the output files\n",
    "\n",
    "DATA_DIR = '../data/yeast'\n",
    "OUTPUT_DIR = '~/jackson_2019/'\n",
    "\n",
    "EXPRESSION_FILE_NAME = '101718_SS_Subset_Data.tsv.gz'\n",
    "GENE_METADATA_FILE_NAME = 'orfs.tsv'\n",
    "TF_LIST_FILE_NAME = 'tf_names_restrict.tsv'"
   ]
  },
  {
   "cell_type": "code",
   "execution_count": null,
   "metadata": {},
   "outputs": [],
   "source": [
    "# Start Multiprocessing Engine\n",
    "# Default to a single computer. Setting up a cluster is left as an exercise to the reader.\n",
    "\n",
    "n_cores_dask = 200\n",
    "activate_path = '~/.local/anaconda3/bin/activate'\n",
    "dask_engine = False\n",
    "\n",
    "n_cores_local = 3\n",
    "local_engine = True\n",
    "\n",
    "# The if __name__ is __main__ pragma protects against runaway multiprocessing\n",
    "# Dask requires a slurm controller in an HPC environment.\n",
    "# The conda or venv activate script is necessary to set the worker environment\n",
    "# This code does NOT set the environment for the current process, only for workers\n",
    "\n",
    "if __name__ == '__main__' and dask_engine:\n",
    "    MPControl.set_multiprocess_engine(\"dask-cluster\")\n",
    "    MPControl.client.minimum_cores = n_cores_dask\n",
    "    MPControl.client.maximum_cores = n_cores_dask\n",
    "    MPControl.client.walltime = '48:00:00'\n",
    "    MPControl.client.add_worker_env_line('module load slurm')\n",
    "    MPControl.client.add_worker_env_line('module load gcc/8.3.0')\n",
    "    MPControl.client.add_worker_env_line('source ' + activate_path)\n",
    "    MPControl.client.cluster_controller_options.append(\"-p ccb\")\n",
    "    MPControl.connect()\n",
    "    \n",
    "# Multiprocessing uses the pathos implementation of multiprocessing (with dill instead of cPickle)\n",
    "# This is suited for a single computer, but will likely be too slow for the example here\n",
    "    \n",
    "if __name__ == '__main__' and local_engine:\n",
    "    MPControl.set_multiprocess_engine(\"multiprocessing\")\n",
    "    MPControl.client.processes = n_cores_local\n",
    "    MPControl.connect()"
   ]
  },
  {
   "cell_type": "code",
   "execution_count": null,
   "metadata": {},
   "outputs": [],
   "source": [
    "# Define the general run parameters used for all figures\n",
    "\n",
    "def set_up_workflow(wkf):\n",
    "    wkf.input_dir = DATA_DIR\n",
    "    wkf.output_dir = OUTPUT_DIR\n",
    "    wkf.append_to_path('output_dir', 'jackson_2019')\n",
    "    wkf.expression_matrix_file = EXPRESSION_FILE_NAME\n",
    "    wkf.gene_metadata_file = GENE_METADATA_FILE_NAME\n",
    "    wkf.tf_names_file = TF_LIST_FILE_NAME\n",
    "    wkf.expression_matrix_columns_are_genes = True\n",
    "    wkf.extract_metadata_from_expression_matrix = True\n",
    "    wkf.split_gold_standard_for_crossvalidation = True\n",
    "    wkf.cv_split_ratio = 0.2\n",
    "    wkf.num_bootstraps = 5\n",
    "    wkf.add_preprocess_step(single_cell.log2_data)\n",
    "    return wkf\n",
    "\n",
    "\n",
    "def set_up_fig5a():\n",
    "    wkf = set_up_workflow(single_cell_cv_workflow.SingleCellSizeSampling())\n",
    "    wkf.random_seed = 1\n",
    "    wkf.seeds = list(range(42, 52))\n",
    "    wkf.sizes = [1]\n",
    "    wkf.sample_with_replacement = False\n",
    "    return wkf\n",
    "\n",
    "\n",
    "def set_up_fig5b():\n",
    "    wkf = set_up_workflow(single_cell_cv_workflow.SingleCellSizeSampling())\n",
    "    wkf.random_seed = 1\n",
    "    wkf.seeds = list(range(42, 52))\n",
    "    wkf.sizes = [0.01, 0.025, 0.05, 0.1, 0.25, 0.5, 0.75, 1]\n",
    "    wkf.sample_with_replacement = False\n",
    "    return wkf"
   ]
  },
  {
   "cell_type": "code",
   "execution_count": null,
   "metadata": {
    "scrolled": true
   },
   "outputs": [],
   "source": [
    "# Figure 5A: Shuffled Priors\n",
    "worker = set_up_fig5a()\n",
    "worker.append_to_path('output_dir', 'figure_5a_shuffled')\n",
    "worker.shuffle_prior_axis = 0\n",
    "worker.run()\n",
    "del worker"
   ]
  },
  {
   "cell_type": "code",
   "execution_count": null,
   "metadata": {},
   "outputs": [],
   "source": [
    "# Figure 5A: Random Data\n",
    "worker = set_up_fig5a()\n",
    "worker.append_to_path('output_dir', 'figure_5a_neg_data')\n",
    "worker.expression_matrix_file = '110518_SS_NEG_Data.tsv.gz'\n",
    "worker.run()\n",
    "del worker"
   ]
  },
  {
   "cell_type": "code",
   "execution_count": null,
   "metadata": {},
   "outputs": [],
   "source": [
    "# Figure 5A: No Imputation\n",
    "worker = set_up_fig5a()\n",
    "worker.append_to_path('output_dir', 'figure_5a_no_impute')\n",
    "worker.run()\n",
    "del worker"
   ]
  },
  {
   "cell_type": "code",
   "execution_count": null,
   "metadata": {},
   "outputs": [],
   "source": [
    "# Figure 5A: MAGIC\n",
    "worker = set_up_fig5a()\n",
    "worker.append_to_path('output_dir', 'figure_5a_magic')\n",
    "worker.expression_matrix_file = 'MAGIC_DATA.tsv.gz'\n",
    "worker.preprocessing_workflow = list()\n",
    "worker.run()\n",
    "del worker"
   ]
  },
  {
   "cell_type": "code",
   "execution_count": null,
   "metadata": {},
   "outputs": [],
   "source": [
    "# Figure 5A: scImpute\n",
    "worker = set_up_fig5a()\n",
    "worker.append_to_path('output_dir', 'figure_5a_scImpute')\n",
    "worker.expression_matrix_file = 'SCIMPUTE_DATA.tsv.gz'\n",
    "worker.run()\n",
    "del worker"
   ]
  },
  {
   "cell_type": "code",
   "execution_count": null,
   "metadata": {},
   "outputs": [],
   "source": [
    "# Figure 5A: VIPER\n",
    "worker = set_up_fig5a()\n",
    "worker.append_to_path('output_dir', 'figure_5a_VIPER')\n",
    "worker.expression_matrix_file = 'VIPER_DATA.tsv.gz'\n",
    "fig5a_viper = worker.run()\n",
    "del worker"
   ]
  },
  {
   "cell_type": "code",
   "execution_count": null,
   "metadata": {},
   "outputs": [],
   "source": [
    "# Figure 5B: ATAC-Seq prior\n",
    "worker = set_up_fig5b()\n",
    "worker.append_to_path('output_dir', 'figure_5b_atac')\n",
    "worker.priors_file = \"yeast-motif-prior.tsv\"\n",
    "worker.gold_standard_file = \"gold_standard.tsv\"\n",
    "worker.run()\n",
    "del worker"
   ]
  },
  {
   "cell_type": "code",
   "execution_count": null,
   "metadata": {},
   "outputs": [],
   "source": [
    "# Figure 5B: Bussemaker\n",
    "worker = set_up_fig5b()\n",
    "worker.append_to_path('output_dir', 'figure_5b_bussemaker')\n",
    "worker.priors_file = \"Bussemaker_pSAM_priors.tsv\"\n",
    "worker.gold_standard_file = \"gold_standard.tsv\"\n",
    "worker.run()\n",
    "del worker"
   ]
  },
  {
   "cell_type": "code",
   "execution_count": null,
   "metadata": {},
   "outputs": [],
   "source": [
    "# Figure 5B: No Priors\n",
    "worker = set_up_fig5b()\n",
    "worker.append_to_path('output_dir', 'figure_5b_no_priors')\n",
    "from inferelator.preprocessing.tfa import NoTFA\n",
    "\n",
    "worker.tfa_driver = NoTFA\n",
    "worker.run()\n",
    "del worker"
   ]
  },
  {
   "cell_type": "code",
   "execution_count": null,
   "metadata": {},
   "outputs": [],
   "source": [
    "# Figure 5B: Gold Standard\n",
    "worker = set_up_fig5b()\n",
    "worker.append_to_path('output_dir', 'figure_5b_gold_standard_cv')\n",
    "worker.run()\n",
    "del worker"
   ]
  },
  {
   "cell_type": "code",
   "execution_count": null,
   "metadata": {},
   "outputs": [],
   "source": [
    "# Figure 5B: YEASTRACT\n",
    "worker = set_up_fig5b()\n",
    "worker.append_to_path('output_dir', 'figure_5b_yeastract')\n",
    "worker.priors_file = \"YEASTRACT_Both_20181118.tsv\"\n",
    "worker.gold_standard_file = \"gold_standard.tsv\"\n",
    "worker.run()\n",
    "del worker"
   ]
  },
  {
   "cell_type": "code",
   "execution_count": null,
   "metadata": {},
   "outputs": [],
   "source": [
    "# Figure 5C: Condition Specific\n",
    "worker = set_up_workflow(single_cell_cv_workflow.SingleCellDropoutConditionSampling())\n",
    "worker.append_to_path('output_dir', 'figure_5c_conditions')\n",
    "worker.sample_batches_to_size = 500\n",
    "worker.drop_column = \"Condition\"\n",
    "worker.model_dropouts = False\n",
    "worker.seeds = list(range(42, 52))\n",
    "worker.run()"
   ]
  },
  {
   "cell_type": "code",
   "execution_count": null,
   "metadata": {},
   "outputs": [],
   "source": [
    "# Figure 5D: Single Task Learning\n",
    "worker = set_up_fig5a()\n",
    "worker.append_to_path('output_dir', 'figure_5d_stl')\n",
    "worker.priors_file = \"YEASTRACT_Both_20181118.tsv\"\n",
    "worker.seeds = list(range(52, 62))\n",
    "worker.run()\n",
    "del worker"
   ]
  },
  {
   "cell_type": "code",
   "execution_count": null,
   "metadata": {},
   "outputs": [],
   "source": [
    "# Figure 5D: Multi Task Learning\n",
    "worker = set_up_fig5a()\n",
    "worker.append_to_path('output_dir', 'figure_5d_mtl')\n",
    "worker.priors_file = \"YEASTRACT_Both_20181118.tsv\"\n",
    "worker.cv_workflow_type = \"amusr\"\n",
    "worker.cv_regression_type = \"amusr\"\n",
    "worker.cv_result_processor_type = ResultsProcessorMultiTask\n",
    "worker.seeds = list(range(52, 62))\n",
    "worker.task_expression_filter = \"intersection\"\n",
    "worker.run()\n",
    "del worker"
   ]
  },
  {
   "cell_type": "code",
   "execution_count": null,
   "metadata": {},
   "outputs": [],
   "source": [
    "# Figure 6: Final Network\n",
    "worker = set_up_workflow(workflow.inferelator_workflow(regression=\"amusr\", workflow=\"amusr\"))\n",
    "worker.append_to_path('output_dir', 'figure_6_final')\n",
    "worker.priors_file = \"YEASTRACT_Both_20181118.tsv\"\n",
    "worker.gold_standard_file = \"YEASTRACT_Both_20181118.tsv\"\n",
    "worker.split_gold_standard_for_crossvalidation = False\n",
    "worker.split_priors_for_gold_standard = False\n",
    "worker.cv_split_ratio = None\n",
    "worker.num_bootstraps = 50\n",
    "worker.random_seed = 100\n",
    "worker.task_expression_filter = \"intersection\"\n",
    "final_network = worker.run()\n",
    "del worker"
   ]
  }
 ],
 "metadata": {
  "kernelspec": {
   "display_name": "Python 3",
   "language": "python",
   "name": "python3"
  },
  "language_info": {
   "codemirror_mode": {
    "name": "ipython",
    "version": 3
   },
   "file_extension": ".py",
   "mimetype": "text/x-python",
   "name": "python",
   "nbconvert_exporter": "python",
   "pygments_lexer": "ipython3",
   "version": "3.6.8"
  }
 },
 "nbformat": 4,
 "nbformat_minor": 2
}
