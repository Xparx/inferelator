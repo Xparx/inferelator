{
 "cells": [
  {
   "cell_type": "code",
   "execution_count": null,
   "metadata": {},
   "outputs": [],
   "source": [
    "# Load modules\n",
    "\n",
    "from inferelator import utils\n",
    "from inferelator.distributed.inferelator_mp import MPControl\n",
    "\n",
    "from inferelator import single_cell_cv_workflow\n",
    "from inferelator import workflow\n",
    "\n",
    "# Set verbosity level to \"Talky\"\n",
    "utils.Debug.set_verbose_level(1)"
   ]
  },
  {
   "cell_type": "code",
   "execution_count": null,
   "metadata": {},
   "outputs": [],
   "source": [
    "# Set the location of the input data and the desired location of the output files\n",
    "\n",
    "DATA_DIR = '../data/th17'\n",
    "OUTPUT_DIR = '~/miraldi_2019/'\n",
    "\n",
    "EXPRESSION_FILE_NAME = 'th17_RNAseq254_DESeq2_VSDcounts.txt.gz'\n",
    "GOLD_STANDARD_FILE_NAME = 'KC1p5_mmOverlap.tsv.gz'\n",
    "PRIOR_FILE_NAME = 'ATAC_Th17_merged.tsv.gz'\n",
    "GENE_METADATA_FILE_NAME = 'union_Th17genesMM10_Th17vTh0_FC0p58_FDR10.txt'\n",
    "GENE_METADATA_COLUMN_NAME = 'Gene'\n",
    "TF_LIST_FILE_NAME = 'potRegs_names.txt'"
   ]
  },
  {
   "cell_type": "code",
   "execution_count": null,
   "metadata": {},
   "outputs": [],
   "source": [
    "# Start Multiprocessing Engine\n",
    "# Default to a single computer. Setting up a cluster is left as an exercise to the reader.\n",
    "\n",
    "n_cores_dask = 40\n",
    "activate_path = '~/.local/anaconda3/bin/activate'\n",
    "dask_engine = False\n",
    "\n",
    "n_cores_local = 3\n",
    "local_engine = True\n",
    "\n",
    "# The if __name__ is __main__ pragma protects against runaway multiprocessing\n",
    "# Dask requires a slurm controller in an HPC environment.\n",
    "# The conda or venv activate script is necessary to set the worker environment\n",
    "# This code does NOT set the environment for the current process, only for workers\n",
    "\n",
    "if __name__ == '__main__' and dask_engine:\n",
    "    MPControl.set_multiprocess_engine(\"dask-cluster\")\n",
    "    MPControl.client.minimum_cores = n_cores_dask\n",
    "    MPControl.client.maximum_cores = n_cores_dask\n",
    "    MPControl.client.walltime = '48:00:00'\n",
    "    MPControl.client.add_worker_env_line('module load slurm')\n",
    "    MPControl.client.add_worker_env_line('module load gcc/8.3.0')\n",
    "    MPControl.client.add_worker_env_line('source ' + activate_path)\n",
    "    MPControl.client.cluster_controller_options.append(\"-p ccb\")\n",
    "    MPControl.connect()\n",
    "    \n",
    "# Multiprocessing uses the pathos implementation of multiprocessing (with dill instead of cPickle)\n",
    "# This is suited for a single computer, but will likely be too slow for the example here\n",
    "    \n",
    "if __name__ == '__main__' and local_engine:\n",
    "    MPControl.set_multiprocess_engine(\"multiprocessing\")\n",
    "    MPControl.client.processes = n_cores_local\n",
    "    MPControl.connect()"
   ]
  },
  {
   "cell_type": "code",
   "execution_count": null,
   "metadata": {},
   "outputs": [],
   "source": [
    "if __name__ == '__main__':\n",
    "    wkf = workflow.inferelator_workflow(regression=\"bbsr\", workflow=\"tfa\")\n",
    "    wkf.input_dir = DATA_DIR\n",
    "    wkf.output_dir = OUTPUT_DIR\n",
    "    wkf.expression_matrix_file = EXPRESSION_FILE_NAME\n",
    "    wkf.priors_file = PRIOR_FILE_NAME\n",
    "    wkf.meta_data_file = None\n",
    "    wkf.gold_standard_file = GOLD_STANDARD_FILE_NAME\n",
    "    wkf.gene_metadata_file = GENE_METADATA_FILE_NAME\n",
    "    wkf.gene_list_index = GENE_METADATA_COLUMN_NAME\n",
    "    wkf.tf_names_file = TF_LIST_FILE_NAME\n",
    "    wkf.expression_matrix_columns_are_genes = False\n",
    "    wkf.extract_metadata_from_expression_matrix = False\n",
    "    wkf.split_gold_standard_for_crossvalidation = True\n",
    "    wkf.cv_split_ratio = 0.2\n",
    "    wkf.num_bootstraps = 5\n",
    "    network = wkf.run()"
   ]
  }
 ],
 "metadata": {
  "kernelspec": {
   "display_name": "Python 3",
   "language": "python",
   "name": "python3"
  },
  "language_info": {
   "codemirror_mode": {
    "name": "ipython",
    "version": 3
   },
   "file_extension": ".py",
   "mimetype": "text/x-python",
   "name": "python",
   "nbconvert_exporter": "python",
   "pygments_lexer": "ipython3",
   "version": "3.6.8"
  }
 },
 "nbformat": 4,
 "nbformat_minor": 2
}
